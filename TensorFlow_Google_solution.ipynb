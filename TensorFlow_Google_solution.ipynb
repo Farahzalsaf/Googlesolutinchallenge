{
  "nbformat": 4,
  "nbformat_minor": 0,
  "metadata": {
    "colab": {
      "provenance": []
    },
    "kernelspec": {
      "name": "python3",
      "display_name": "Python 3"
    },
    "language_info": {
      "name": "python"
    },
    "accelerator": "GPU",
    "gpuClass": "standard"
  },
  "cells": [
    {
      "cell_type": "code",
      "source": [
        "from keras.models import load_model  \n",
        "from PIL import Image, ImageOps  \n",
        "import numpy as np\n",
        "import sqlite3\n",
        "\n",
        "# Disable scientific notation for clarity\n",
        "np.set_printoptions(suppress=True)\n",
        "\n",
        "# Loading the model\n",
        "model = load_model(\"/content/keras_model.h5\", compile=False)\n",
        "\n",
        "# Loading the labels\n",
        "class_names = open(\"/content/labels.txt\", \"r\").readlines()\n",
        "\n",
        "# Creating the array of the right shape to feed into the keras model\n",
        "# The 'length' or number of images we can put into the array is\n",
        "# determined by the first position in the shape tuple, in this case 1\n",
        "data = np.ndarray(shape=(1, 224, 224, 3), dtype=np.float32)\n",
        "\n",
        "# path to the image\n",
        "image_path = \"/content/drive/MyDrive/Solution challenge /Data /full/Photo 2023-02-26 02.26.40 PM.jpg\"\n",
        "image = Image.open(image_path).convert(\"RGB\")\n",
        "\n",
        "# resizing the image to be at least 224x224 and then cropping from the center\n",
        "size = (224, 224)\n",
        "image = ImageOps.fit(image, size, Image.LANCZOS)\n",
        "\n",
        "# turning the image into a numpy array\n",
        "image_array = np.asarray(image)\n",
        "\n",
        "# Normalizing the image\n",
        "normalized_image_array = (image_array.astype(np.float32) / 127.5) - 1\n",
        "\n",
        "# Loading the image into the array\n",
        "data[0] = normalized_image_array\n",
        "\n",
        "# Predicting the model\n",
        "prediction = model.predict(data)\n",
        "index = np.argmax(prediction)\n",
        "class_name = class_names[index]\n",
        "confidence_score = prediction[0][index]\n",
        "\n",
        "# Print the prediction and confidence score\n",
        "print(\"Class:\", class_name[2:], end=\"\")\n",
        "print(\"Confidence Score:\", confidence_score)\n",
        "\n",
        "# Store the prediction in SQLite database\n",
        "conn = sqlite3.connect('predictions.db')\n",
        "c = conn.cursor()\n",
        "\n",
        "# Create a table if not exists\n",
        "c.execute('''CREATE TABLE IF NOT EXISTS predictions\n",
        "             (image_path TEXT, class_name TEXT, confidence_score REAL)''')\n",
        "\n",
        "# Insert the prediction into the table\n",
        "c.execute(\"INSERT INTO predictions VALUES (?, ?, ?)\", (image_path, class_name[2:], confidence_score))\n",
        "\n",
        "# Commit the changes and close the database\n",
        "conn.commit()\n",
        "conn.close()\n"
      ],
      "metadata": {
        "colab": {
          "base_uri": "https://localhost:8080/"
        },
        "id": "yYkF8WOjewao",
        "outputId": "80b0d956-433a-4623-f137-a8dd2f270a04"
      },
      "execution_count": 5,
      "outputs": [
        {
          "output_type": "stream",
          "name": "stderr",
          "text": [
            "WARNING:tensorflow:5 out of the last 5 calls to <function Model.make_predict_function.<locals>.predict_function at 0x7fada6660c10> triggered tf.function retracing. Tracing is expensive and the excessive number of tracings could be due to (1) creating @tf.function repeatedly in a loop, (2) passing tensors with different shapes, (3) passing Python objects instead of tensors. For (1), please define your @tf.function outside of the loop. For (2), @tf.function has reduce_retracing=True option that can avoid unnecessary retracing. For (3), please refer to https://www.tensorflow.org/guide/function#controlling_retracing and https://www.tensorflow.org/api_docs/python/tf/function for  more details.\n"
          ]
        },
        {
          "output_type": "stream",
          "name": "stdout",
          "text": [
            "1/1 [==============================] - 1s 740ms/step\n",
            "Class: Full\n",
            "Confidence Score: 0.99686265\n"
          ]
        }
      ]
    }
  ]
}